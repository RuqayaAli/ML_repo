{
 "cells": [
  {
   "cell_type": "code",
   "execution_count": 1,
   "id": "6a8feb0b-6991-49a3-9c04-7b664f4c3737",
   "metadata": {},
   "outputs": [],
   "source": [
    "import numpy as np\n",
    "import pandas as pd\n",
    "from sklearn.linear_model import LinearRegression"
   ]
  },
  {
   "cell_type": "code",
   "execution_count": 4,
   "id": "e1dff99e-fc39-45a2-a0dd-d27f1c6ed77c",
   "metadata": {},
   "outputs": [
    {
     "name": "stdout",
     "output_type": "stream",
     "text": [
      "m: [[1.8]], b: [30.36961366]\n",
      "m: [[1.8]], b: [32.16872075]\n",
      "m: [[1.8]], b: [32.54786706]\n",
      "m: [[1.8]], b: [30.88520338]\n"
     ]
    }
   ],
   "source": [
    "for m in [50, 100, 1000, 10000]:\n",
    "    c = np.random.randint(0, 100, size=m)# c is temp in celeious\n",
    "    f = (9/5) * c + 32 # equation needed to convert tempreture from celecios to fehrenhite\n",
    "    f = f + np.random.normal() # Add noise to values in f to test if the parameter,weight values effects because of this noise\n",
    "    # Reshape for x(Independent) and y(dependent)\n",
    "    x = c.reshape(-1, 1)\n",
    "    y = f.reshape(-1, 1)\n",
    "\n",
    "    model = LinearRegression()\n",
    "\n",
    "    model.fit(x, y)    \n",
    "\n",
    "    print(f\"m: {model.coef_}, b: {model.intercept_}\")"
   ]
  },
  {
   "cell_type": "code",
   "execution_count": null,
   "id": "2134fc7d-998f-4392-b69e-93aaff7c9d0f",
   "metadata": {},
   "outputs": [],
   "source": []
  },
  {
   "cell_type": "code",
   "execution_count": 10,
   "id": "4438a8cb-3f77-45b8-9f33-047a7d536fba",
   "metadata": {},
   "outputs": [
    {
     "data": {
      "text/plain": [
       "(array([[1.8]]), array([32.]))"
      ]
     },
     "execution_count": 10,
     "metadata": {},
     "output_type": "execute_result"
    }
   ],
   "source": [
    "# do same thing happen above but with size = 100 and with no noise add to f values\n",
    "c = np.random.randint(0, 100, size=100)\n",
    "f = (9/5) * c + 32\n",
    "x = c.reshape(-1, 1)\n",
    "y = f.reshape(-1, 1)\n",
    "model = LinearRegression()\n",
    "model.fit(x, y)\n",
    "model.coef_, model.intercept_"
   ]
  },
  {
   "cell_type": "code",
   "execution_count": null,
   "id": "599b6cca-9a52-4d10-be3b-c3e575a39ba9",
   "metadata": {},
   "outputs": [],
   "source": [
    "# NOTES that the parameters values m,b its accurate (m=9\\5=1.8),(b=32)"
   ]
  },
  {
   "cell_type": "code",
   "execution_count": 13,
   "id": "aff8b4b7-3f84-4aa8-b11c-80e9311f157c",
   "metadata": {},
   "outputs": [
    {
     "data": {
      "text/html": [
       "<div>\n",
       "<style scoped>\n",
       "    .dataframe tbody tr th:only-of-type {\n",
       "        vertical-align: middle;\n",
       "    }\n",
       "\n",
       "    .dataframe tbody tr th {\n",
       "        vertical-align: top;\n",
       "    }\n",
       "\n",
       "    .dataframe thead th {\n",
       "        text-align: right;\n",
       "    }\n",
       "</style>\n",
       "<table border=\"1\" class=\"dataframe\">\n",
       "  <thead>\n",
       "    <tr style=\"text-align: right;\">\n",
       "      <th></th>\n",
       "      <th>c</th>\n",
       "      <th>f</th>\n",
       "    </tr>\n",
       "  </thead>\n",
       "  <tbody>\n",
       "    <tr>\n",
       "      <th>0</th>\n",
       "      <td>86</td>\n",
       "      <td>186.8</td>\n",
       "    </tr>\n",
       "    <tr>\n",
       "      <th>1</th>\n",
       "      <td>44</td>\n",
       "      <td>111.2</td>\n",
       "    </tr>\n",
       "    <tr>\n",
       "      <th>2</th>\n",
       "      <td>49</td>\n",
       "      <td>120.2</td>\n",
       "    </tr>\n",
       "    <tr>\n",
       "      <th>3</th>\n",
       "      <td>45</td>\n",
       "      <td>113.0</td>\n",
       "    </tr>\n",
       "    <tr>\n",
       "      <th>4</th>\n",
       "      <td>11</td>\n",
       "      <td>51.8</td>\n",
       "    </tr>\n",
       "    <tr>\n",
       "      <th>...</th>\n",
       "      <td>...</td>\n",
       "      <td>...</td>\n",
       "    </tr>\n",
       "    <tr>\n",
       "      <th>95</th>\n",
       "      <td>84</td>\n",
       "      <td>183.2</td>\n",
       "    </tr>\n",
       "    <tr>\n",
       "      <th>96</th>\n",
       "      <td>36</td>\n",
       "      <td>96.8</td>\n",
       "    </tr>\n",
       "    <tr>\n",
       "      <th>97</th>\n",
       "      <td>37</td>\n",
       "      <td>98.6</td>\n",
       "    </tr>\n",
       "    <tr>\n",
       "      <th>98</th>\n",
       "      <td>89</td>\n",
       "      <td>192.2</td>\n",
       "    </tr>\n",
       "    <tr>\n",
       "      <th>99</th>\n",
       "      <td>22</td>\n",
       "      <td>71.6</td>\n",
       "    </tr>\n",
       "  </tbody>\n",
       "</table>\n",
       "<p>100 rows × 2 columns</p>\n",
       "</div>"
      ],
      "text/plain": [
       "     c      f\n",
       "0   86  186.8\n",
       "1   44  111.2\n",
       "2   49  120.2\n",
       "3   45  113.0\n",
       "4   11   51.8\n",
       "..  ..    ...\n",
       "95  84  183.2\n",
       "96  36   96.8\n",
       "97  37   98.6\n",
       "98  89  192.2\n",
       "99  22   71.6\n",
       "\n",
       "[100 rows x 2 columns]"
      ]
     },
     "execution_count": 13,
     "metadata": {},
     "output_type": "execute_result"
    }
   ],
   "source": [
    "#print data frame \n",
    "data = pd.DataFrame({\n",
    "    \"c\": c,\n",
    "    \"f\": f\n",
    "})\n",
    "data"
   ]
  },
  {
   "cell_type": "code",
   "execution_count": null,
   "id": "440e3953-0b64-46f1-a026-0ba10f4bca4b",
   "metadata": {},
   "outputs": [],
   "source": []
  }
 ],
 "metadata": {
  "kernelspec": {
   "display_name": "(00) Python 3.9 - ML",
   "language": "python",
   "name": "py39_ml"
  },
  "language_info": {
   "codemirror_mode": {
    "name": "ipython",
    "version": 3
   },
   "file_extension": ".py",
   "mimetype": "text/x-python",
   "name": "python",
   "nbconvert_exporter": "python",
   "pygments_lexer": "ipython3",
   "version": "3.9.23"
  }
 },
 "nbformat": 4,
 "nbformat_minor": 5
}
