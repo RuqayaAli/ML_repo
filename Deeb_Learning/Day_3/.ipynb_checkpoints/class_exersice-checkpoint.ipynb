{
 "cells": [
  {
   "cell_type": "code",
   "execution_count": 9,
   "id": "6bf0e2f1-87fc-488c-beab-e29482c024b5",
   "metadata": {},
   "outputs": [
    {
     "name": "stdout",
     "output_type": "stream",
     "text": [
      "Defaulting to user installation because normal site-packages is not writeable\n",
      "Collecting pydot\n",
      "  Downloading pydot-4.0.1-py3-none-any.whl.metadata (11 kB)\n",
      "Requirement already satisfied: pyparsing>=3.1.0 in /opt/conda/envs/py39_ml/lib/python3.9/site-packages (from pydot) (3.2.0)\n",
      "Downloading pydot-4.0.1-py3-none-any.whl (37 kB)\n",
      "Installing collected packages: pydot\n",
      "Successfully installed pydot-4.0.1\n",
      "Note: you may need to restart the kernel to use updated packages.\n"
     ]
    }
   ],
   "source": [
    "pip install pydot"
   ]
  },
  {
   "cell_type": "code",
   "execution_count": 10,
   "id": "17a7eedb-d4c1-403b-9b61-b5f1019b1592",
   "metadata": {},
   "outputs": [],
   "source": [
    "import tensorflow as tf\n",
    "\n",
    "import pydot as py"
   ]
  },
  {
   "cell_type": "code",
   "execution_count": 11,
   "id": "6036b921-0c14-4af6-aa16-4c036dce49a4",
   "metadata": {},
   "outputs": [],
   "source": [
    "i_layer = tf.keras.layers.Input([6,])\n",
    "layer1 = tf.keras.layers.Dense(100)\n",
    "layer2 = tf.keras.layers.Dense(64)\n",
    "layer3 = tf.keras.layers.Dense(32)\n",
    "layer4 = tf.keras.layers.Dense(16)\n",
    "o_layer = tf.keras.layers.Dense(1)"
   ]
  },
  {
   "cell_type": "code",
   "execution_count": 12,
   "id": "0228ab5e-f324-44c8-9b03-be496318cfce",
   "metadata": {},
   "outputs": [],
   "source": [
    "x = layer1(i_layer)\n",
    "z = layer2(x)\n",
    "b = layer3(z)\n",
    "a = layer4(b)\n",
    "out = o_layer(a)\n"
   ]
  },
  {
   "cell_type": "code",
   "execution_count": 13,
   "id": "5fdc95b9-47dc-4bab-9975-53c536cfd2f2",
   "metadata": {},
   "outputs": [],
   "source": [
    "model = tf.keras.Model(inputs=i_layer, outputs=out)"
   ]
  },
  {
   "cell_type": "code",
   "execution_count": 14,
   "id": "95ae2a50-1b45-4ebd-930e-970254dae2d5",
   "metadata": {},
   "outputs": [
    {
     "name": "stdout",
     "output_type": "stream",
     "text": [
      "You must install pydot (`pip install pydot`) for `plot_model` to work.\n"
     ]
    }
   ],
   "source": [
    "tf.keras.utils.plot_model(model, show_shapes=True, show_layer_names=True, rankdir=\"TB\", dpi=96)"
   ]
  },
  {
   "cell_type": "code",
   "execution_count": null,
   "id": "d6a663a5-47e4-44dc-8079-7d9e9ace2442",
   "metadata": {},
   "outputs": [],
   "source": []
  },
  {
   "cell_type": "code",
   "execution_count": null,
   "id": "21a529e4-9662-440b-89db-553de1bb2b16",
   "metadata": {},
   "outputs": [],
   "source": []
  }
 ],
 "metadata": {
  "kernelspec": {
   "display_name": "(00) Python 3.9 - ML",
   "language": "python",
   "name": "py39_ml"
  },
  "language_info": {
   "codemirror_mode": {
    "name": "ipython",
    "version": 3
   },
   "file_extension": ".py",
   "mimetype": "text/x-python",
   "name": "python",
   "nbconvert_exporter": "python",
   "pygments_lexer": "ipython3",
   "version": "3.9.23"
  }
 },
 "nbformat": 4,
 "nbformat_minor": 5
}
