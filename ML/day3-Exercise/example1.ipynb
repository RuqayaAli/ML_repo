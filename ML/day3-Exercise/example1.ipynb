{
 "cells": [
  {
   "cell_type": "code",
   "execution_count": null,
   "id": "6737453a-e759-49ce-9027-de4a26f4b5fb",
   "metadata": {},
   "outputs": [],
   "source": [
    "import numpy as np\n",
    "from sklearn.linear_model import LinearRegression\n",
    "from sklearn.linear_model import SGDRegressor\n",
    "from matplotlib import pyplot as plt\n",
    "from sklearn.metrics import mean_squared_error\n",
    "import pandas as pd\n",
    "\n",
    "import plotly.graph_objs as go\n",
    "from plotly.offline import init_notebook_mode, iplot\n",
    "import plotly.io as pio\n",
    "pio.renderers.default = 'iframe'"
   ]
  },
  {
   "cell_type": "code",
   "execution_count": null,
   "id": "dc078bff-cb43-4e66-875f-2152c8a80723",
   "metadata": {},
   "outputs": [],
   "source": []
  },
  {
   "cell_type": "code",
   "execution_count": null,
   "id": "4c988038-1135-424f-8619-595d0848fd3e",
   "metadata": {},
   "outputs": [],
   "source": [
    "import warnings\n",
    "warnings.filterwarnings(\"ignore\")"
   ]
  },
  {
   "cell_type": "code",
   "execution_count": null,
   "id": "e0f62af3-3021-4782-9c5b-e48f017117a6",
   "metadata": {},
   "outputs": [],
   "source": []
  },
  {
   "cell_type": "code",
   "execution_count": null,
   "id": "6a944ea7-a22b-42c3-8280-7b762acbb7b9",
   "metadata": {},
   "outputs": [],
   "source": [
    "X = 2 * np.random.rand(1000, 1)\n",
    "y = 4 + 3 * X "
   ]
  },
  {
   "cell_type": "code",
   "execution_count": null,
   "id": "17028535-c331-486d-a8e0-5c72eccfb3de",
   "metadata": {},
   "outputs": [],
   "source": [
    "GD_model = SGDRegressor(max_iter=1, eta0=0.0001, warm_start=True)"
   ]
  },
  {
   "cell_type": "code",
   "execution_count": null,
   "id": "f1cfc534-b960-473d-b2fd-ff64235e3028",
   "metadata": {},
   "outputs": [],
   "source": [
    "out = []\n",
    "\n",
    "for i in range(100):\n",
    "    GD_model.fit(X, y) # Singel itteration of GD\n",
    "    out.append([\n",
    "                i, GD_model.coef_[0], # Model Parameter (1)\n",
    "                GD_model.intercept_[0], # Model Parameter (2)\n",
    "                mean_squared_error(y, GD_model.predict(X))\n",
    "                ])\n",
    "    \n",
    "    df = pd.DataFrame(out, columns=[\"itteration\", \"m\", \"b\", \"MSE\"])\n",
    "    _out = out[-1]\n",
    "    print(f\"Itteration Number: {_out[0]}, Param (1): {_out[1]}, Param (2): {_out[2]}, MSE: {_out[3]}\")\n",
    "    \n",
    "    # input()\n",
    "    # break"
   ]
  },
  {
   "cell_type": "code",
   "execution_count": null,
   "id": "6bf3bb95-df35-4c54-a083-66fab6d0f67f",
   "metadata": {},
   "outputs": [],
   "source": [
    "df"
   ]
  },
  {
   "cell_type": "code",
   "execution_count": null,
   "id": "6356e72f-6301-4c9b-bb37-33d320319e5c",
   "metadata": {},
   "outputs": [],
   "source": []
  },
  {
   "cell_type": "code",
   "execution_count": null,
   "id": "a99b44db-2622-4f13-bf97-2238324d90f0",
   "metadata": {},
   "outputs": [],
   "source": []
  },
  {
   "cell_type": "code",
   "execution_count": null,
   "id": "e35ccc5c-f2ed-4d5c-8b18-3e03252d42db",
   "metadata": {},
   "outputs": [],
   "source": []
  },
  {
   "cell_type": "code",
   "execution_count": null,
   "id": "5cca94bc-ef64-47ef-b41e-8a39fd771046",
   "metadata": {},
   "outputs": [],
   "source": []
  },
  {
   "cell_type": "code",
   "execution_count": null,
   "id": "7921ce34-9215-4109-8a5a-1229b7cadbf1",
   "metadata": {},
   "outputs": [],
   "source": []
  },
  {
   "cell_type": "code",
   "execution_count": null,
   "id": "b077a8f7-3d47-449d-b45e-6ec34d961c3b",
   "metadata": {},
   "outputs": [],
   "source": []
  },
  {
   "cell_type": "code",
   "execution_count": null,
   "id": "01c05ee2-ef5d-49ff-8b98-4d419c9fe6b0",
   "metadata": {},
   "outputs": [],
   "source": []
  }
 ],
 "metadata": {
  "kernelspec": {
   "display_name": "(00) Python 3.9 - ML",
   "language": "python",
   "name": "py39_ml"
  },
  "language_info": {
   "codemirror_mode": {
    "name": "ipython",
    "version": 3
   },
   "file_extension": ".py",
   "mimetype": "text/x-python",
   "name": "python",
   "nbconvert_exporter": "python",
   "pygments_lexer": "ipython3",
   "version": "3.9.23"
  }
 },
 "nbformat": 4,
 "nbformat_minor": 5
}
