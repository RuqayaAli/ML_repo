{
 "cells": [
  {
   "cell_type": "code",
   "execution_count": 1,
   "id": "54fd80de-4e63-4d9b-8aeb-e8a8f57fa39c",
   "metadata": {},
   "outputs": [
    {
     "name": "stdout",
     "output_type": "stream",
     "text": [
      "y    y_hat   MSE       Cross Entropy\n",
      "----------------------------------------\n",
      "1    0.9     0.0100    0.1054\n",
      "1    0.6     0.1600    0.5108\n",
      "1    0.1     0.8100    2.3026\n",
      "0    0.1     0.0100    0.1054\n",
      "0    0.4     0.1600    0.5108\n",
      "0    0.9     0.8100    2.3026\n"
     ]
    }
   ],
   "source": [
    "import numpy as np\n",
    "\n",
    "def MSE(y, y_hat):\n",
    "    return (y - y_hat) ** 2\n",
    "\n",
    "def CE(y, y_hat):\n",
    "    epsilon = 1e-10\n",
    "    y_hat = np.clip(y_hat, epsilon, 1 - epsilon)\n",
    "    return -((y * np.log(y_hat)) + ((1 - y) * np.log(1 - y_hat)))\n",
    "\n",
    "examples = [\n",
    "    (1, 0.9),  \n",
    "    (1, 0.6),   \n",
    "    (1, 0.1),   \n",
    "    (0, 0.1),   \n",
    "    (0, 0.4),   \n",
    "    (0, 0.9),   \n",
    "]\n",
    "\n",
    "print(f\"{'y':<5}{'y_hat':<8}{'MSE':<10}{'Cross Entropy'}\")\n",
    "print(\"-\" * 40)\n",
    "for y, y_hat in examples:\n",
    "    mse = MSE(y, y_hat)\n",
    "    ce = CE(y, y_hat)\n",
    "    print(f\"{y:<5}{y_hat:<8}{mse:<10.4f}{ce:.4f}\")\n"
   ]
  },
  {
   "cell_type": "code",
   "execution_count": null,
   "id": "a927872b-b4a7-46c3-a8b0-b79447d26469",
   "metadata": {},
   "outputs": [],
   "source": []
  }
 ],
 "metadata": {
  "kernelspec": {
   "display_name": "(00) Python 3.9 - ML",
   "language": "python",
   "name": "py39_ml"
  },
  "language_info": {
   "codemirror_mode": {
    "name": "ipython",
    "version": 3
   },
   "file_extension": ".py",
   "mimetype": "text/x-python",
   "name": "python",
   "nbconvert_exporter": "python",
   "pygments_lexer": "ipython3",
   "version": "3.9.23"
  }
 },
 "nbformat": 4,
 "nbformat_minor": 5
}
