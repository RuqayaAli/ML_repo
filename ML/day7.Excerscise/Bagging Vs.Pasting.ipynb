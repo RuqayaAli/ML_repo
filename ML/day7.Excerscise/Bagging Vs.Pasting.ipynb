{
 "cells": [
  {
   "cell_type": "code",
   "execution_count": 5,
   "id": "d206d885-a96b-428f-b5a8-248e02cc4d34",
   "metadata": {},
   "outputs": [],
   "source": [
    "from sklearn.datasets import load_iris\n",
    "from sklearn.tree import DecisionTreeClassifier\n",
    "from sklearn.ensemble import BaggingClassifier\n",
    "from sklearn.model_selection import train_test_split\n",
    "from sklearn.metrics import accuracy_score\n",
    "\n",
    "# Load data\n",
    "X, y = load_iris(return_X_y=True)\n",
    "X_train, X_test, y_train, y_test = train_test_split(\n",
    "    X, y, test_size=0.3, random_state=42)\n",
    "\n",
    "# Base estimator\n",
    "base_clf = DecisionTreeClassifier()\n",
    "\n",
    "from sklearn.ensemble import BaggingClassifier\n",
    "from sklearn.tree import DecisionTreeClassifier\n",
    "\n",
    "# Bagging: with replacement\n",
    "bagging_clf = BaggingClassifier(\n",
    "    estimator=DecisionTreeClassifier(),\n",
    "    n_estimators=10,\n",
    "    bootstrap=True, # Bagging\n",
    "    random_state=42\n",
    ")\n",
    "\n",
    "\n",
    "# Pasting: without replacement\n",
    "pasting_clf = BaggingClassifier(\n",
    "    estimator=DecisionTreeClassifier(),\n",
    "    n_estimators=10,\n",
    "    bootstrap=False, #Pasting\n",
    "    random_state=42\n",
    ")\n",
    "\n"
   ]
  },
  {
   "cell_type": "markdown",
   "id": "8f8edaf9-9ff5-4afe-8f75-1fc0c8d2881e",
   "metadata": {},
   "source": [
    "#  How Do You Know Which Is Better? (Bagging or Pasting)\n",
    "Compare the .score() or accuracy_score() on test or validation set.\n",
    "\n"
   ]
  },
  {
   "cell_type": "code",
   "execution_count": 6,
   "id": "ef0994c7-de6e-438f-8f1d-e688d22a5c02",
   "metadata": {},
   "outputs": [
    {
     "name": "stdout",
     "output_type": "stream",
     "text": [
      "Bagging Accuracy: 1.00\n",
      "Pasting Accuracy: 1.00\n"
     ]
    }
   ],
   "source": [
    "# Train and test both\n",
    "for clf, name in [(bagging_clf, \"Bagging\"), (pasting_clf, \"Pasting\")]:\n",
    "    clf.fit(X_train, y_train)\n",
    "    y_pred = clf.predict(X_test)\n",
    "    print(f\"{name} Accuracy: {accuracy_score(y_test, y_pred):.2f}\")"
   ]
  },
  {
   "cell_type": "markdown",
   "id": "74c15b28-f89e-4336-a6a9-0c9c6e62ae6b",
   "metadata": {},
   "source": [
    "#  How Do You Know Which Is Better? (Bagging or Pasting)\n",
    "Cross-Validation (More Reliable):\n"
   ]
  },
  {
   "cell_type": "code",
   "execution_count": 7,
   "id": "ef5562f8-5782-475d-b04f-28d0c9db9ce7",
   "metadata": {},
   "outputs": [
    {
     "name": "stdout",
     "output_type": "stream",
     "text": [
      "Bagging CV Mean Accuracy: 0.9533333333333334\n",
      "Pasting CV Mean Accuracy: 0.9666666666666668\n"
     ]
    }
   ],
   "source": [
    "from sklearn.model_selection import cross_val_score\n",
    "\n",
    "bagging_scores = cross_val_score(bagging_clf, X, y, cv=5)\n",
    "pasting_scores = cross_val_score(pasting_clf, X, y, cv=5)\n",
    "\n",
    "print(\"Bagging CV Mean Accuracy:\", bagging_scores.mean())\n",
    "print(\"Pasting CV Mean Accuracy:\", pasting_scores.mean()) ## this is higher in output >> so Its better\n"
   ]
  },
  {
   "cell_type": "code",
   "execution_count": null,
   "id": "374f3f22-bced-4dc8-acae-74146bc268db",
   "metadata": {},
   "outputs": [],
   "source": []
  }
 ],
 "metadata": {
  "kernelspec": {
   "display_name": "(00) Python 3.9 - ML",
   "language": "python",
   "name": "py39_ml"
  },
  "language_info": {
   "codemirror_mode": {
    "name": "ipython",
    "version": 3
   },
   "file_extension": ".py",
   "mimetype": "text/x-python",
   "name": "python",
   "nbconvert_exporter": "python",
   "pygments_lexer": "ipython3",
   "version": "3.9.23"
  }
 },
 "nbformat": 4,
 "nbformat_minor": 5
}
